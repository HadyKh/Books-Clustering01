{
 "cells": [
  {
   "cell_type": "code",
   "execution_count": 3,
   "id": "7534de59",
   "metadata": {},
   "outputs": [
    {
     "name": "stderr",
     "output_type": "stream",
     "text": [
      "[nltk_data] Downloading package punkt to\n",
      "[nltk_data]     C:\\Users\\hadyo\\AppData\\Roaming\\nltk_data...\n",
      "[nltk_data]   Package punkt is already up-to-date!\n",
      "[nltk_data] Downloading package stopwords to\n",
      "[nltk_data]     C:\\Users\\hadyo\\AppData\\Roaming\\nltk_data...\n",
      "[nltk_data]   Package stopwords is already up-to-date!\n",
      "[nltk_data] Downloading package wordnet to\n",
      "[nltk_data]     C:\\Users\\hadyo\\AppData\\Roaming\\nltk_data...\n",
      "[nltk_data]   Package wordnet is already up-to-date!\n"
     ]
    }
   ],
   "source": [
    "import warnings\n",
    "warnings.filterwarnings('ignore', category = DeprecationWarning)\n",
    "import requests\n",
    "import re\n",
    "import nltk\n",
    "nltk.download('punkt')\n",
    "nltk.download('stopwords')\n",
    "nltk.download('wordnet')\n",
    "import random\n",
    "import numpy as np\n",
    "import pandas as pd\n",
    "import itertools\n",
    "from sklearn import svm\n",
    "from sklearn import tree\n",
    "from urllib import request\n",
    "from random import randint\n",
    "#from wordcloud import WordCloud\n",
    "from nltk import word_tokenize\n",
    "from collections import Counter\n",
    "import matplotlib.pyplot as plt\n",
    "import gensim\n",
    "from gensim.models import LdaModel, Word2Vec\n",
    "import pyLDAvis\n",
    "import pyLDAvis.gensim_models\n",
    "from gensim.test.utils import common_texts\n",
    "from gensim.corpora.dictionary import Dictionary\n",
    "from nltk.corpus import stopwords\n",
    "from sklearn import preprocessing\n",
    "from nltk.stem import WordNetLemmatizer\n",
    "#!pip install mlxtend\n",
    "#from mlxtend.evaluate import bias_variance_decomp\n",
    "from sklearn.cluster import KMeans\n",
    "from sklearn.model_selection import GridSearchCV\n",
    "from sklearn.decomposition import PCA\n",
    "from sklearn.neighbors import KNeighborsClassifier\n",
    "from sklearn.model_selection  import cross_val_score\n",
    "from sklearn.model_selection import train_test_split, KFold\n",
    "from sklearn.feature_extraction.text import CountVectorizer\n",
    "from sklearn.decomposition import LatentDirichletAllocation\n",
    "from sklearn.feature_extraction.text import TfidfVectorizer\n",
    "from sklearn.utils import shuffle\n",
    "from sklearn.discriminant_analysis import LinearDiscriminantAnalysis\n",
    "from sklearn.manifold import TSNE\n",
    "from sklearn.decomposition import PCA, KernelPCA\n",
    "from sklearn.metrics import silhouette_samples, silhouette_score, homogeneity_score, completeness_score, v_measure_score, adjusted_rand_score, euclidean_distances "
   ]
  },
  {
   "cell_type": "code",
   "execution_count": 4,
   "id": "51ff3af4",
   "metadata": {},
   "outputs": [],
   "source": [
    "#fitting KMeans model\n",
    "def model_kmeans(data):\n",
    "    kmeans = KMeans(n_clusters = 5, init = 'k-means++', max_iter = 300, n_init = 10, random_state = 0)\n",
    "    y_data = kmeans.fit_predict(data)\n",
    "    return y_data, kmeans"
   ]
  },
  {
   "cell_type": "code",
   "execution_count": 5,
   "id": "6b16d316",
   "metadata": {},
   "outputs": [],
   "source": [
    "def plotting(features, y_pred, model, title):\n",
    "    plt.figure(figsize=(10, 6))\n",
    "    plt.scatter(features[y_pred == 0, 0],\n",
    "                features[y_pred == 0, 1], marker = \"x\", c = 'red', s = 100, label = ['c1'])\n",
    "    plt.scatter(features[y_pred == 1, 0],\n",
    "                features[y_pred == 1, 1], marker = \"x\", c = 'blue', s = 100, label = ['c2'])\n",
    "    plt.scatter(features[y_pred == 2, 0],\n",
    "                features[y_pred == 2, 1], marker = \"x\", c = 'orange', s = 100, label = ['c3'])\n",
    "    plt.scatter(features[y_pred == 3, 0],\n",
    "                features[y_pred == 3, 1], marker = \"x\", c = 'yellow', s = 100, label = ['c4'])\n",
    "    plt.scatter(features[y_pred == 4, 0],\n",
    "                features[y_pred == 4, 1], marker = \"x\", c = 'green', s = 100, label = ['c5'])\n",
    "    plt.scatter(model.cluster_centers_[:,0],\n",
    "                model.cluster_centers_[:,1], marker = \"o\", c = 'black', label = 'centroids')\n",
    "    plt.legend()\n",
    "    plt.title(title)"
   ]
  },
  {
   "cell_type": "code",
   "execution_count": 6,
   "id": "80d57f99",
   "metadata": {},
   "outputs": [],
   "source": [
    "#evaluate the clusters\n",
    "def clustering_evaluation(features, clustering_labels, data):\n",
    "    print(\"Homogeneity: {}\".format(homogeneity_score(data, clustering_labels)))\n",
    "    print(\"Completeness: {}\".format(completeness_score(data, clustering_labels)))\n",
    "    print(\"V-measure: {}\".format(v_measure_score(data, clustering_labels)))\n",
    "    print(\"Adjusted Rand-Index: {}\".format(adjusted_rand_score(data, clustering_labels)))\n",
    "    print(\"Silhouette Coefficient: {}\".format(silhouette_score(features, clustering_labels)))\n"
   ]
  },
  {
   "cell_type": "code",
   "execution_count": 7,
   "id": "2111929b",
   "metadata": {},
   "outputs": [],
   "source": [
    "#books_url_list = [\"https://www.gutenberg.org/files/19719/19719-0.txt\",\n",
    " #                 \"https://www.gutenberg.org/cache/epub/28434/pg28434.txt\",\n",
    "  #                \"https://www.gutenberg.org/cache/epub/15147/pg15147.txt\",\n",
    "   #               \"https://www.gutenberg.org/cache/epub/17866/pg17866.txt\",\n",
    "    #              \"https://www.gutenberg.org/files/3772/3772-0.txt\"]"
   ]
  },
  {
   "cell_type": "code",
   "execution_count": 8,
   "id": "4c9beddf",
   "metadata": {},
   "outputs": [],
   "source": [
    "books_url_list = [\"https://www.gutenberg.org/files/84/84-0.txt\",\n",
    "                  \"https://www.gutenberg.org/cache/epub/28434/pg28434.txt\",\n",
    "                  \"https://www.gutenberg.org/cache/epub/3623/pg3623.txt\",\n",
    "                  \"https://www.gutenberg.org/cache/epub/17866/pg17866.txt\",\n",
    "                  \"https://www.gutenberg.org/files/3772/3772-0.txt\"]"
   ]
  },
  {
   "cell_type": "markdown",
   "id": "ccffe308",
   "metadata": {},
   "source": [
    "# Preprocessing"
   ]
  },
  {
   "cell_type": "code",
   "execution_count": 9,
   "id": "81fb2497",
   "metadata": {},
   "outputs": [
    {
     "data": {
      "text/plain": [
       "5"
      ]
     },
     "execution_count": 9,
     "metadata": {},
     "output_type": "execute_result"
    }
   ],
   "source": [
    "#function read raw data\n",
    "def read_books(url):\n",
    "    files = []\n",
    "    for i in url:\n",
    "        file = requests.get(url = i)\n",
    "        files.append(file.content.decode('utf-8'))\n",
    "    return files\n",
    "\n",
    "#read raw data\n",
    "raw_dataset = read_books(books_url_list)\n",
    "len(raw_dataset)"
   ]
  },
  {
   "cell_type": "code",
   "execution_count": 10,
   "id": "92462147",
   "metadata": {},
   "outputs": [
    {
     "data": {
      "text/plain": [
       "5"
      ]
     },
     "execution_count": 10,
     "metadata": {},
     "output_type": "execute_result"
    }
   ],
   "source": [
    "#Function cleaned tokens\n",
    "def cleaned_text(raw_text):\n",
    "    text_beg = raw_text.find(\"*** START OF\")\n",
    "    text_end = raw_text.find(\"*** END OF\")\n",
    "\n",
    "    raw_text = raw_text[text_beg : text_end]\n",
    "    raw_text = re.findall(r\"[a-zA-Z]+\", raw_text)\n",
    "    raw_text = \" \".join(raw_text).lower()\n",
    "    tokens = word_tokenize(raw_text)\n",
    "    stop_words = stopwords.words(\"english\")\n",
    "    lemmatizer = WordNetLemmatizer()\n",
    "    tokens = [lemmatizer.lemmatize(token) for token in tokens if token not in stop_words]\n",
    "    \n",
    "    return tokens\n",
    "#Getting cleaned tokens\n",
    "tokens = []\n",
    "for i in range(len(raw_dataset)):\n",
    "    tokens.append(cleaned_text(raw_dataset[i]))\n",
    "len(tokens)"
   ]
  },
  {
   "cell_type": "code",
   "execution_count": 11,
   "id": "44efca25",
   "metadata": {},
   "outputs": [
    {
     "name": "stdout",
     "output_type": "stream",
     "text": [
      "5\n",
      "5\n",
      "5\n",
      "5\n"
     ]
    }
   ],
   "source": [
    "#function to extract author name, book name and labels\n",
    "def extract_book_author(raw_text, index):\n",
    "    label = chr(index + 97)\n",
    "        \n",
    "    title_beg = raw_text.find(\"Title\") + 7\n",
    "    title_end = raw_text.find(\"\\r\\n\\r\\nAuthor\")\n",
    "    title = raw_text[title_beg : title_end]\n",
    "\n",
    "    author_beg = raw_text.find(\"Author\") + 8\n",
    "    c = 0\n",
    "    while raw_text[author_beg + c] != \"\\r\":\n",
    "        c += 1\n",
    "        author_end = author_beg + c\n",
    "    author = raw_text[author_beg : author_end]\n",
    "    return label, title, author\n",
    "\n",
    "#getting the author name, book name, labels\n",
    "label, author, title = [], [], []\n",
    "for i in range(len(raw_dataset)):\n",
    "    label_temp, title_temp, author_temp = extract_book_author(raw_dataset[i],i)\n",
    "    label.append(label_temp)\n",
    "    author.append(author_temp)\n",
    "    title.append(title_temp)\n",
    "    \n",
    "print(len(label))\n",
    "print(len(author))\n",
    "print(len(title))\n",
    "print(len(tokens))"
   ]
  },
  {
   "cell_type": "code",
   "execution_count": 12,
   "id": "9ab89c89",
   "metadata": {},
   "outputs": [],
   "source": [
    "#function to partition data\n",
    "def partitioned_text(tokens, title, author, label):\n",
    "    book_partitions = []\n",
    "    for i in range(0, len(tokens) -150, 150):\n",
    "        partition = [\" \".join(tokens[i : i + 150]), title, author, label]\n",
    "        book_partitions.append(partition)\n",
    "    return book_partitions"
   ]
  },
  {
   "cell_type": "code",
   "execution_count": 13,
   "id": "0fec5077",
   "metadata": {},
   "outputs": [
    {
     "data": {
      "text/html": [
       "<div>\n",
       "<style scoped>\n",
       "    .dataframe tbody tr th:only-of-type {\n",
       "        vertical-align: middle;\n",
       "    }\n",
       "\n",
       "    .dataframe tbody tr th {\n",
       "        vertical-align: top;\n",
       "    }\n",
       "\n",
       "    .dataframe thead th {\n",
       "        text-align: right;\n",
       "    }\n",
       "</style>\n",
       "<table border=\"1\" class=\"dataframe\">\n",
       "  <thead>\n",
       "    <tr style=\"text-align: right;\">\n",
       "      <th></th>\n",
       "      <th>partitions</th>\n",
       "      <th>title</th>\n",
       "      <th>author</th>\n",
       "      <th>label</th>\n",
       "    </tr>\n",
       "  </thead>\n",
       "  <tbody>\n",
       "    <tr>\n",
       "      <th>0</th>\n",
       "      <td>heart respect obedience paid crew felt peculia...</td>\n",
       "      <td>Frankenstein\\r\\n       or, The Modern Prometheus</td>\n",
       "      <td>Mary Wollstonecraft (Godwin) Shelley</td>\n",
       "      <td>a</td>\n",
       "    </tr>\n",
       "    <tr>\n",
       "      <th>1</th>\n",
       "      <td>sound portend midnight breeze blow fairly watc...</td>\n",
       "      <td>Frankenstein\\r\\n       or, The Modern Prometheus</td>\n",
       "      <td>Mary Wollstonecraft (Godwin) Shelley</td>\n",
       "      <td>a</td>\n",
       "    </tr>\n",
       "    <tr>\n",
       "      <th>2</th>\n",
       "      <td>stare please nevertheless true youngster year ...</td>\n",
       "      <td>Frankenstein\\r\\n       or, The Modern Prometheus</td>\n",
       "      <td>Mary Wollstonecraft (Godwin) Shelley</td>\n",
       "      <td>a</td>\n",
       "    </tr>\n",
       "    <tr>\n",
       "      <th>3</th>\n",
       "      <td>short time alpha centauri reached maximum surp...</td>\n",
       "      <td>The Astronomy of Milton's 'Paradise Lost'</td>\n",
       "      <td>Thomas Orchard</td>\n",
       "      <td>b</td>\n",
       "    </tr>\n",
       "    <tr>\n",
       "      <th>4</th>\n",
       "      <td>fusing rock laboratory allowing consolidate sl...</td>\n",
       "      <td>The Student’s Elements of Geology</td>\n",
       "      <td>Sir Charles Lyell</td>\n",
       "      <td>e</td>\n",
       "    </tr>\n",
       "    <tr>\n",
       "      <th>...</th>\n",
       "      <td>...</td>\n",
       "      <td>...</td>\n",
       "      <td>...</td>\n",
       "      <td>...</td>\n",
       "    </tr>\n",
       "    <tr>\n",
       "      <th>995</th>\n",
       "      <td>one time distinct independent one hand seen cu...</td>\n",
       "      <td>The Golden Bough\\r\\n       A study of magic an...</td>\n",
       "      <td>Sir James George Frazer</td>\n",
       "      <td>c</td>\n",
       "    </tr>\n",
       "    <tr>\n",
       "      <th>996</th>\n",
       "      <td>drop may fall utters prayer sorcerer look upwa...</td>\n",
       "      <td>The Golden Bough\\r\\n       A study of magic an...</td>\n",
       "      <td>Sir James George Frazer</td>\n",
       "      <td>c</td>\n",
       "    </tr>\n",
       "    <tr>\n",
       "      <th>997</th>\n",
       "      <td>jewelry behind came dave ritter rand assistant...</td>\n",
       "      <td>Murder in the Gunroom</td>\n",
       "      <td>Henry Beam Piper</td>\n",
       "      <td>d</td>\n",
       "    </tr>\n",
       "    <tr>\n",
       "      <th>998</th>\n",
       "      <td>bed glacial drift ireland drift norfolk cliff ...</td>\n",
       "      <td>The Student’s Elements of Geology</td>\n",
       "      <td>Sir Charles Lyell</td>\n",
       "      <td>e</td>\n",
       "    </tr>\n",
       "    <tr>\n",
       "      <th>999</th>\n",
       "      <td>placed five foot narrow vertical strip wide la...</td>\n",
       "      <td>Murder in the Gunroom</td>\n",
       "      <td>Henry Beam Piper</td>\n",
       "      <td>d</td>\n",
       "    </tr>\n",
       "  </tbody>\n",
       "</table>\n",
       "<p>1000 rows × 4 columns</p>\n",
       "</div>"
      ],
      "text/plain": [
       "                                            partitions  \\\n",
       "0    heart respect obedience paid crew felt peculia...   \n",
       "1    sound portend midnight breeze blow fairly watc...   \n",
       "2    stare please nevertheless true youngster year ...   \n",
       "3    short time alpha centauri reached maximum surp...   \n",
       "4    fusing rock laboratory allowing consolidate sl...   \n",
       "..                                                 ...   \n",
       "995  one time distinct independent one hand seen cu...   \n",
       "996  drop may fall utters prayer sorcerer look upwa...   \n",
       "997  jewelry behind came dave ritter rand assistant...   \n",
       "998  bed glacial drift ireland drift norfolk cliff ...   \n",
       "999  placed five foot narrow vertical strip wide la...   \n",
       "\n",
       "                                                 title  \\\n",
       "0     Frankenstein\\r\\n       or, The Modern Prometheus   \n",
       "1     Frankenstein\\r\\n       or, The Modern Prometheus   \n",
       "2     Frankenstein\\r\\n       or, The Modern Prometheus   \n",
       "3            The Astronomy of Milton's 'Paradise Lost'   \n",
       "4                    The Student’s Elements of Geology   \n",
       "..                                                 ...   \n",
       "995  The Golden Bough\\r\\n       A study of magic an...   \n",
       "996  The Golden Bough\\r\\n       A study of magic an...   \n",
       "997                              Murder in the Gunroom   \n",
       "998                  The Student’s Elements of Geology   \n",
       "999                              Murder in the Gunroom   \n",
       "\n",
       "                                   author label  \n",
       "0    Mary Wollstonecraft (Godwin) Shelley     a  \n",
       "1    Mary Wollstonecraft (Godwin) Shelley     a  \n",
       "2    Mary Wollstonecraft (Godwin) Shelley     a  \n",
       "3                          Thomas Orchard     b  \n",
       "4                       Sir Charles Lyell     e  \n",
       "..                                    ...   ...  \n",
       "995               Sir James George Frazer     c  \n",
       "996               Sir James George Frazer     c  \n",
       "997                      Henry Beam Piper     d  \n",
       "998                     Sir Charles Lyell     e  \n",
       "999                      Henry Beam Piper     d  \n",
       "\n",
       "[1000 rows x 4 columns]"
      ]
     },
     "execution_count": 13,
     "metadata": {},
     "output_type": "execute_result"
    }
   ],
   "source": [
    "partitions = []\n",
    "for i in range(len(books_url_list)):\n",
    "    book_partitions = partitioned_text(tokens[i], title[i], author[i], label[i])\n",
    "    random.shuffle(book_partitions)\n",
    "    book_partitions = book_partitions[0:200]\n",
    "    partitions += book_partitions\n",
    "\n",
    "dataset = pd.DataFrame(partitions, columns = [\"partitions\", \"title\", \"author\", \"label\"])\n",
    "dataset = dataset.sample(frac=1).reset_index(drop=True)\n",
    "dataset"
   ]
  },
  {
   "cell_type": "markdown",
   "id": "4b5b757e",
   "metadata": {},
   "source": [
    "# Feature Engineering"
   ]
  },
  {
   "cell_type": "markdown",
   "id": "eb79f26e",
   "metadata": {},
   "source": [
    "## BOW model"
   ]
  },
  {
   "cell_type": "code",
   "execution_count": 14,
   "id": "b166a02b",
   "metadata": {
    "scrolled": false
   },
   "outputs": [
    {
     "data": {
      "text/html": [
       "<div>\n",
       "<style scoped>\n",
       "    .dataframe tbody tr th:only-of-type {\n",
       "        vertical-align: middle;\n",
       "    }\n",
       "\n",
       "    .dataframe tbody tr th {\n",
       "        vertical-align: top;\n",
       "    }\n",
       "\n",
       "    .dataframe thead th {\n",
       "        text-align: right;\n",
       "    }\n",
       "</style>\n",
       "<table border=\"1\" class=\"dataframe\">\n",
       "  <thead>\n",
       "    <tr style=\"text-align: right;\">\n",
       "      <th></th>\n",
       "      <th>aachen</th>\n",
       "      <th>aah</th>\n",
       "      <th>aargau</th>\n",
       "      <th>aaron</th>\n",
       "      <th>aarvo</th>\n",
       "      <th>abandon</th>\n",
       "      <th>abandoned</th>\n",
       "      <th>abate</th>\n",
       "      <th>abated</th>\n",
       "      <th>abatement</th>\n",
       "      <th>...</th>\n",
       "      <th>zodiac</th>\n",
       "      <th>zodiacal</th>\n",
       "      <th>zone</th>\n",
       "      <th>zoological</th>\n",
       "      <th>zoology</th>\n",
       "      <th>zoophyte</th>\n",
       "      <th>zorger</th>\n",
       "      <th>zulu</th>\n",
       "      <th>zuni</th>\n",
       "      <th>zurich</th>\n",
       "    </tr>\n",
       "  </thead>\n",
       "  <tbody>\n",
       "    <tr>\n",
       "      <th>0</th>\n",
       "      <td>0</td>\n",
       "      <td>0</td>\n",
       "      <td>0</td>\n",
       "      <td>0</td>\n",
       "      <td>0</td>\n",
       "      <td>0</td>\n",
       "      <td>1</td>\n",
       "      <td>0</td>\n",
       "      <td>0</td>\n",
       "      <td>0</td>\n",
       "      <td>...</td>\n",
       "      <td>0</td>\n",
       "      <td>0</td>\n",
       "      <td>0</td>\n",
       "      <td>0</td>\n",
       "      <td>0</td>\n",
       "      <td>0</td>\n",
       "      <td>0</td>\n",
       "      <td>0</td>\n",
       "      <td>0</td>\n",
       "      <td>0</td>\n",
       "    </tr>\n",
       "    <tr>\n",
       "      <th>1</th>\n",
       "      <td>0</td>\n",
       "      <td>0</td>\n",
       "      <td>0</td>\n",
       "      <td>0</td>\n",
       "      <td>0</td>\n",
       "      <td>0</td>\n",
       "      <td>0</td>\n",
       "      <td>0</td>\n",
       "      <td>0</td>\n",
       "      <td>0</td>\n",
       "      <td>...</td>\n",
       "      <td>0</td>\n",
       "      <td>0</td>\n",
       "      <td>0</td>\n",
       "      <td>0</td>\n",
       "      <td>0</td>\n",
       "      <td>0</td>\n",
       "      <td>0</td>\n",
       "      <td>0</td>\n",
       "      <td>0</td>\n",
       "      <td>0</td>\n",
       "    </tr>\n",
       "    <tr>\n",
       "      <th>2</th>\n",
       "      <td>0</td>\n",
       "      <td>0</td>\n",
       "      <td>0</td>\n",
       "      <td>0</td>\n",
       "      <td>0</td>\n",
       "      <td>0</td>\n",
       "      <td>0</td>\n",
       "      <td>0</td>\n",
       "      <td>0</td>\n",
       "      <td>0</td>\n",
       "      <td>...</td>\n",
       "      <td>0</td>\n",
       "      <td>0</td>\n",
       "      <td>0</td>\n",
       "      <td>0</td>\n",
       "      <td>0</td>\n",
       "      <td>0</td>\n",
       "      <td>0</td>\n",
       "      <td>0</td>\n",
       "      <td>0</td>\n",
       "      <td>0</td>\n",
       "    </tr>\n",
       "    <tr>\n",
       "      <th>3</th>\n",
       "      <td>0</td>\n",
       "      <td>0</td>\n",
       "      <td>0</td>\n",
       "      <td>0</td>\n",
       "      <td>0</td>\n",
       "      <td>0</td>\n",
       "      <td>0</td>\n",
       "      <td>0</td>\n",
       "      <td>0</td>\n",
       "      <td>0</td>\n",
       "      <td>...</td>\n",
       "      <td>0</td>\n",
       "      <td>0</td>\n",
       "      <td>0</td>\n",
       "      <td>0</td>\n",
       "      <td>0</td>\n",
       "      <td>0</td>\n",
       "      <td>0</td>\n",
       "      <td>0</td>\n",
       "      <td>0</td>\n",
       "      <td>0</td>\n",
       "    </tr>\n",
       "    <tr>\n",
       "      <th>4</th>\n",
       "      <td>0</td>\n",
       "      <td>0</td>\n",
       "      <td>0</td>\n",
       "      <td>0</td>\n",
       "      <td>0</td>\n",
       "      <td>0</td>\n",
       "      <td>0</td>\n",
       "      <td>0</td>\n",
       "      <td>0</td>\n",
       "      <td>0</td>\n",
       "      <td>...</td>\n",
       "      <td>0</td>\n",
       "      <td>0</td>\n",
       "      <td>0</td>\n",
       "      <td>0</td>\n",
       "      <td>0</td>\n",
       "      <td>0</td>\n",
       "      <td>0</td>\n",
       "      <td>0</td>\n",
       "      <td>0</td>\n",
       "      <td>0</td>\n",
       "    </tr>\n",
       "    <tr>\n",
       "      <th>...</th>\n",
       "      <td>...</td>\n",
       "      <td>...</td>\n",
       "      <td>...</td>\n",
       "      <td>...</td>\n",
       "      <td>...</td>\n",
       "      <td>...</td>\n",
       "      <td>...</td>\n",
       "      <td>...</td>\n",
       "      <td>...</td>\n",
       "      <td>...</td>\n",
       "      <td>...</td>\n",
       "      <td>...</td>\n",
       "      <td>...</td>\n",
       "      <td>...</td>\n",
       "      <td>...</td>\n",
       "      <td>...</td>\n",
       "      <td>...</td>\n",
       "      <td>...</td>\n",
       "      <td>...</td>\n",
       "      <td>...</td>\n",
       "      <td>...</td>\n",
       "    </tr>\n",
       "    <tr>\n",
       "      <th>995</th>\n",
       "      <td>0</td>\n",
       "      <td>0</td>\n",
       "      <td>0</td>\n",
       "      <td>0</td>\n",
       "      <td>0</td>\n",
       "      <td>0</td>\n",
       "      <td>0</td>\n",
       "      <td>0</td>\n",
       "      <td>0</td>\n",
       "      <td>0</td>\n",
       "      <td>...</td>\n",
       "      <td>0</td>\n",
       "      <td>0</td>\n",
       "      <td>0</td>\n",
       "      <td>0</td>\n",
       "      <td>0</td>\n",
       "      <td>0</td>\n",
       "      <td>0</td>\n",
       "      <td>0</td>\n",
       "      <td>0</td>\n",
       "      <td>0</td>\n",
       "    </tr>\n",
       "    <tr>\n",
       "      <th>996</th>\n",
       "      <td>0</td>\n",
       "      <td>0</td>\n",
       "      <td>0</td>\n",
       "      <td>0</td>\n",
       "      <td>0</td>\n",
       "      <td>0</td>\n",
       "      <td>0</td>\n",
       "      <td>0</td>\n",
       "      <td>0</td>\n",
       "      <td>0</td>\n",
       "      <td>...</td>\n",
       "      <td>0</td>\n",
       "      <td>0</td>\n",
       "      <td>0</td>\n",
       "      <td>0</td>\n",
       "      <td>0</td>\n",
       "      <td>0</td>\n",
       "      <td>0</td>\n",
       "      <td>0</td>\n",
       "      <td>0</td>\n",
       "      <td>0</td>\n",
       "    </tr>\n",
       "    <tr>\n",
       "      <th>997</th>\n",
       "      <td>0</td>\n",
       "      <td>0</td>\n",
       "      <td>0</td>\n",
       "      <td>0</td>\n",
       "      <td>0</td>\n",
       "      <td>0</td>\n",
       "      <td>0</td>\n",
       "      <td>0</td>\n",
       "      <td>0</td>\n",
       "      <td>0</td>\n",
       "      <td>...</td>\n",
       "      <td>0</td>\n",
       "      <td>0</td>\n",
       "      <td>0</td>\n",
       "      <td>0</td>\n",
       "      <td>0</td>\n",
       "      <td>0</td>\n",
       "      <td>0</td>\n",
       "      <td>0</td>\n",
       "      <td>0</td>\n",
       "      <td>0</td>\n",
       "    </tr>\n",
       "    <tr>\n",
       "      <th>998</th>\n",
       "      <td>0</td>\n",
       "      <td>0</td>\n",
       "      <td>0</td>\n",
       "      <td>0</td>\n",
       "      <td>0</td>\n",
       "      <td>0</td>\n",
       "      <td>0</td>\n",
       "      <td>0</td>\n",
       "      <td>0</td>\n",
       "      <td>0</td>\n",
       "      <td>...</td>\n",
       "      <td>0</td>\n",
       "      <td>0</td>\n",
       "      <td>0</td>\n",
       "      <td>0</td>\n",
       "      <td>0</td>\n",
       "      <td>0</td>\n",
       "      <td>0</td>\n",
       "      <td>0</td>\n",
       "      <td>0</td>\n",
       "      <td>0</td>\n",
       "    </tr>\n",
       "    <tr>\n",
       "      <th>999</th>\n",
       "      <td>0</td>\n",
       "      <td>0</td>\n",
       "      <td>0</td>\n",
       "      <td>0</td>\n",
       "      <td>0</td>\n",
       "      <td>0</td>\n",
       "      <td>0</td>\n",
       "      <td>0</td>\n",
       "      <td>0</td>\n",
       "      <td>0</td>\n",
       "      <td>...</td>\n",
       "      <td>0</td>\n",
       "      <td>0</td>\n",
       "      <td>0</td>\n",
       "      <td>0</td>\n",
       "      <td>0</td>\n",
       "      <td>0</td>\n",
       "      <td>0</td>\n",
       "      <td>0</td>\n",
       "      <td>0</td>\n",
       "      <td>0</td>\n",
       "    </tr>\n",
       "  </tbody>\n",
       "</table>\n",
       "<p>1000 rows × 16857 columns</p>\n",
       "</div>"
      ],
      "text/plain": [
       "     aachen  aah  aargau  aaron  aarvo  abandon  abandoned  abate  abated  \\\n",
       "0         0    0       0      0      0        0          1      0       0   \n",
       "1         0    0       0      0      0        0          0      0       0   \n",
       "2         0    0       0      0      0        0          0      0       0   \n",
       "3         0    0       0      0      0        0          0      0       0   \n",
       "4         0    0       0      0      0        0          0      0       0   \n",
       "..      ...  ...     ...    ...    ...      ...        ...    ...     ...   \n",
       "995       0    0       0      0      0        0          0      0       0   \n",
       "996       0    0       0      0      0        0          0      0       0   \n",
       "997       0    0       0      0      0        0          0      0       0   \n",
       "998       0    0       0      0      0        0          0      0       0   \n",
       "999       0    0       0      0      0        0          0      0       0   \n",
       "\n",
       "     abatement  ...  zodiac  zodiacal  zone  zoological  zoology  zoophyte  \\\n",
       "0            0  ...       0         0     0           0        0         0   \n",
       "1            0  ...       0         0     0           0        0         0   \n",
       "2            0  ...       0         0     0           0        0         0   \n",
       "3            0  ...       0         0     0           0        0         0   \n",
       "4            0  ...       0         0     0           0        0         0   \n",
       "..         ...  ...     ...       ...   ...         ...      ...       ...   \n",
       "995          0  ...       0         0     0           0        0         0   \n",
       "996          0  ...       0         0     0           0        0         0   \n",
       "997          0  ...       0         0     0           0        0         0   \n",
       "998          0  ...       0         0     0           0        0         0   \n",
       "999          0  ...       0         0     0           0        0         0   \n",
       "\n",
       "     zorger  zulu  zuni  zurich  \n",
       "0         0     0     0       0  \n",
       "1         0     0     0       0  \n",
       "2         0     0     0       0  \n",
       "3         0     0     0       0  \n",
       "4         0     0     0       0  \n",
       "..      ...   ...   ...     ...  \n",
       "995       0     0     0       0  \n",
       "996       0     0     0       0  \n",
       "997       0     0     0       0  \n",
       "998       0     0     0       0  \n",
       "999       0     0     0       0  \n",
       "\n",
       "[1000 rows x 16857 columns]"
      ]
     },
     "execution_count": 14,
     "metadata": {},
     "output_type": "execute_result"
    }
   ],
   "source": [
    "def model_BOW(data): # take the partitions\n",
    "    cv = CountVectorizer()\n",
    "    cv_fit = cv.fit_transform(data)\n",
    "    cv_fit_df = pd.DataFrame(cv_fit.toarray(), columns = cv.get_feature_names())\n",
    "    return cv_fit_df\n",
    "    \n",
    "bow_vectorizer = model_BOW(dataset['partitions'])\n",
    "bow_vectorizer"
   ]
  },
  {
   "cell_type": "markdown",
   "id": "b066b0b4",
   "metadata": {},
   "source": [
    "## TF-IDF model"
   ]
  },
  {
   "cell_type": "code",
   "execution_count": 15,
   "id": "84646fd3",
   "metadata": {},
   "outputs": [
    {
     "data": {
      "text/html": [
       "<div>\n",
       "<style scoped>\n",
       "    .dataframe tbody tr th:only-of-type {\n",
       "        vertical-align: middle;\n",
       "    }\n",
       "\n",
       "    .dataframe tbody tr th {\n",
       "        vertical-align: top;\n",
       "    }\n",
       "\n",
       "    .dataframe thead th {\n",
       "        text-align: right;\n",
       "    }\n",
       "</style>\n",
       "<table border=\"1\" class=\"dataframe\">\n",
       "  <thead>\n",
       "    <tr style=\"text-align: right;\">\n",
       "      <th></th>\n",
       "      <th>aachen</th>\n",
       "      <th>aah</th>\n",
       "      <th>aargau</th>\n",
       "      <th>aaron</th>\n",
       "      <th>aarvo</th>\n",
       "      <th>abandon</th>\n",
       "      <th>abandoned</th>\n",
       "      <th>abate</th>\n",
       "      <th>abated</th>\n",
       "      <th>abatement</th>\n",
       "      <th>...</th>\n",
       "      <th>zodiac</th>\n",
       "      <th>zodiacal</th>\n",
       "      <th>zone</th>\n",
       "      <th>zoological</th>\n",
       "      <th>zoology</th>\n",
       "      <th>zoophyte</th>\n",
       "      <th>zorger</th>\n",
       "      <th>zulu</th>\n",
       "      <th>zuni</th>\n",
       "      <th>zurich</th>\n",
       "    </tr>\n",
       "  </thead>\n",
       "  <tbody>\n",
       "    <tr>\n",
       "      <th>0</th>\n",
       "      <td>0.0</td>\n",
       "      <td>0.0</td>\n",
       "      <td>0.0</td>\n",
       "      <td>0.0</td>\n",
       "      <td>0.0</td>\n",
       "      <td>0.0</td>\n",
       "      <td>0.094836</td>\n",
       "      <td>0.0</td>\n",
       "      <td>0.0</td>\n",
       "      <td>0.0</td>\n",
       "      <td>...</td>\n",
       "      <td>0.0</td>\n",
       "      <td>0.0</td>\n",
       "      <td>0.0</td>\n",
       "      <td>0.0</td>\n",
       "      <td>0.0</td>\n",
       "      <td>0.0</td>\n",
       "      <td>0.0</td>\n",
       "      <td>0.0</td>\n",
       "      <td>0.0</td>\n",
       "      <td>0.0</td>\n",
       "    </tr>\n",
       "    <tr>\n",
       "      <th>1</th>\n",
       "      <td>0.0</td>\n",
       "      <td>0.0</td>\n",
       "      <td>0.0</td>\n",
       "      <td>0.0</td>\n",
       "      <td>0.0</td>\n",
       "      <td>0.0</td>\n",
       "      <td>0.000000</td>\n",
       "      <td>0.0</td>\n",
       "      <td>0.0</td>\n",
       "      <td>0.0</td>\n",
       "      <td>...</td>\n",
       "      <td>0.0</td>\n",
       "      <td>0.0</td>\n",
       "      <td>0.0</td>\n",
       "      <td>0.0</td>\n",
       "      <td>0.0</td>\n",
       "      <td>0.0</td>\n",
       "      <td>0.0</td>\n",
       "      <td>0.0</td>\n",
       "      <td>0.0</td>\n",
       "      <td>0.0</td>\n",
       "    </tr>\n",
       "    <tr>\n",
       "      <th>2</th>\n",
       "      <td>0.0</td>\n",
       "      <td>0.0</td>\n",
       "      <td>0.0</td>\n",
       "      <td>0.0</td>\n",
       "      <td>0.0</td>\n",
       "      <td>0.0</td>\n",
       "      <td>0.000000</td>\n",
       "      <td>0.0</td>\n",
       "      <td>0.0</td>\n",
       "      <td>0.0</td>\n",
       "      <td>...</td>\n",
       "      <td>0.0</td>\n",
       "      <td>0.0</td>\n",
       "      <td>0.0</td>\n",
       "      <td>0.0</td>\n",
       "      <td>0.0</td>\n",
       "      <td>0.0</td>\n",
       "      <td>0.0</td>\n",
       "      <td>0.0</td>\n",
       "      <td>0.0</td>\n",
       "      <td>0.0</td>\n",
       "    </tr>\n",
       "    <tr>\n",
       "      <th>3</th>\n",
       "      <td>0.0</td>\n",
       "      <td>0.0</td>\n",
       "      <td>0.0</td>\n",
       "      <td>0.0</td>\n",
       "      <td>0.0</td>\n",
       "      <td>0.0</td>\n",
       "      <td>0.000000</td>\n",
       "      <td>0.0</td>\n",
       "      <td>0.0</td>\n",
       "      <td>0.0</td>\n",
       "      <td>...</td>\n",
       "      <td>0.0</td>\n",
       "      <td>0.0</td>\n",
       "      <td>0.0</td>\n",
       "      <td>0.0</td>\n",
       "      <td>0.0</td>\n",
       "      <td>0.0</td>\n",
       "      <td>0.0</td>\n",
       "      <td>0.0</td>\n",
       "      <td>0.0</td>\n",
       "      <td>0.0</td>\n",
       "    </tr>\n",
       "    <tr>\n",
       "      <th>4</th>\n",
       "      <td>0.0</td>\n",
       "      <td>0.0</td>\n",
       "      <td>0.0</td>\n",
       "      <td>0.0</td>\n",
       "      <td>0.0</td>\n",
       "      <td>0.0</td>\n",
       "      <td>0.000000</td>\n",
       "      <td>0.0</td>\n",
       "      <td>0.0</td>\n",
       "      <td>0.0</td>\n",
       "      <td>...</td>\n",
       "      <td>0.0</td>\n",
       "      <td>0.0</td>\n",
       "      <td>0.0</td>\n",
       "      <td>0.0</td>\n",
       "      <td>0.0</td>\n",
       "      <td>0.0</td>\n",
       "      <td>0.0</td>\n",
       "      <td>0.0</td>\n",
       "      <td>0.0</td>\n",
       "      <td>0.0</td>\n",
       "    </tr>\n",
       "    <tr>\n",
       "      <th>...</th>\n",
       "      <td>...</td>\n",
       "      <td>...</td>\n",
       "      <td>...</td>\n",
       "      <td>...</td>\n",
       "      <td>...</td>\n",
       "      <td>...</td>\n",
       "      <td>...</td>\n",
       "      <td>...</td>\n",
       "      <td>...</td>\n",
       "      <td>...</td>\n",
       "      <td>...</td>\n",
       "      <td>...</td>\n",
       "      <td>...</td>\n",
       "      <td>...</td>\n",
       "      <td>...</td>\n",
       "      <td>...</td>\n",
       "      <td>...</td>\n",
       "      <td>...</td>\n",
       "      <td>...</td>\n",
       "      <td>...</td>\n",
       "      <td>...</td>\n",
       "    </tr>\n",
       "    <tr>\n",
       "      <th>995</th>\n",
       "      <td>0.0</td>\n",
       "      <td>0.0</td>\n",
       "      <td>0.0</td>\n",
       "      <td>0.0</td>\n",
       "      <td>0.0</td>\n",
       "      <td>0.0</td>\n",
       "      <td>0.000000</td>\n",
       "      <td>0.0</td>\n",
       "      <td>0.0</td>\n",
       "      <td>0.0</td>\n",
       "      <td>...</td>\n",
       "      <td>0.0</td>\n",
       "      <td>0.0</td>\n",
       "      <td>0.0</td>\n",
       "      <td>0.0</td>\n",
       "      <td>0.0</td>\n",
       "      <td>0.0</td>\n",
       "      <td>0.0</td>\n",
       "      <td>0.0</td>\n",
       "      <td>0.0</td>\n",
       "      <td>0.0</td>\n",
       "    </tr>\n",
       "    <tr>\n",
       "      <th>996</th>\n",
       "      <td>0.0</td>\n",
       "      <td>0.0</td>\n",
       "      <td>0.0</td>\n",
       "      <td>0.0</td>\n",
       "      <td>0.0</td>\n",
       "      <td>0.0</td>\n",
       "      <td>0.000000</td>\n",
       "      <td>0.0</td>\n",
       "      <td>0.0</td>\n",
       "      <td>0.0</td>\n",
       "      <td>...</td>\n",
       "      <td>0.0</td>\n",
       "      <td>0.0</td>\n",
       "      <td>0.0</td>\n",
       "      <td>0.0</td>\n",
       "      <td>0.0</td>\n",
       "      <td>0.0</td>\n",
       "      <td>0.0</td>\n",
       "      <td>0.0</td>\n",
       "      <td>0.0</td>\n",
       "      <td>0.0</td>\n",
       "    </tr>\n",
       "    <tr>\n",
       "      <th>997</th>\n",
       "      <td>0.0</td>\n",
       "      <td>0.0</td>\n",
       "      <td>0.0</td>\n",
       "      <td>0.0</td>\n",
       "      <td>0.0</td>\n",
       "      <td>0.0</td>\n",
       "      <td>0.000000</td>\n",
       "      <td>0.0</td>\n",
       "      <td>0.0</td>\n",
       "      <td>0.0</td>\n",
       "      <td>...</td>\n",
       "      <td>0.0</td>\n",
       "      <td>0.0</td>\n",
       "      <td>0.0</td>\n",
       "      <td>0.0</td>\n",
       "      <td>0.0</td>\n",
       "      <td>0.0</td>\n",
       "      <td>0.0</td>\n",
       "      <td>0.0</td>\n",
       "      <td>0.0</td>\n",
       "      <td>0.0</td>\n",
       "    </tr>\n",
       "    <tr>\n",
       "      <th>998</th>\n",
       "      <td>0.0</td>\n",
       "      <td>0.0</td>\n",
       "      <td>0.0</td>\n",
       "      <td>0.0</td>\n",
       "      <td>0.0</td>\n",
       "      <td>0.0</td>\n",
       "      <td>0.000000</td>\n",
       "      <td>0.0</td>\n",
       "      <td>0.0</td>\n",
       "      <td>0.0</td>\n",
       "      <td>...</td>\n",
       "      <td>0.0</td>\n",
       "      <td>0.0</td>\n",
       "      <td>0.0</td>\n",
       "      <td>0.0</td>\n",
       "      <td>0.0</td>\n",
       "      <td>0.0</td>\n",
       "      <td>0.0</td>\n",
       "      <td>0.0</td>\n",
       "      <td>0.0</td>\n",
       "      <td>0.0</td>\n",
       "    </tr>\n",
       "    <tr>\n",
       "      <th>999</th>\n",
       "      <td>0.0</td>\n",
       "      <td>0.0</td>\n",
       "      <td>0.0</td>\n",
       "      <td>0.0</td>\n",
       "      <td>0.0</td>\n",
       "      <td>0.0</td>\n",
       "      <td>0.000000</td>\n",
       "      <td>0.0</td>\n",
       "      <td>0.0</td>\n",
       "      <td>0.0</td>\n",
       "      <td>...</td>\n",
       "      <td>0.0</td>\n",
       "      <td>0.0</td>\n",
       "      <td>0.0</td>\n",
       "      <td>0.0</td>\n",
       "      <td>0.0</td>\n",
       "      <td>0.0</td>\n",
       "      <td>0.0</td>\n",
       "      <td>0.0</td>\n",
       "      <td>0.0</td>\n",
       "      <td>0.0</td>\n",
       "    </tr>\n",
       "  </tbody>\n",
       "</table>\n",
       "<p>1000 rows × 16857 columns</p>\n",
       "</div>"
      ],
      "text/plain": [
       "     aachen  aah  aargau  aaron  aarvo  abandon  abandoned  abate  abated  \\\n",
       "0       0.0  0.0     0.0    0.0    0.0      0.0   0.094836    0.0     0.0   \n",
       "1       0.0  0.0     0.0    0.0    0.0      0.0   0.000000    0.0     0.0   \n",
       "2       0.0  0.0     0.0    0.0    0.0      0.0   0.000000    0.0     0.0   \n",
       "3       0.0  0.0     0.0    0.0    0.0      0.0   0.000000    0.0     0.0   \n",
       "4       0.0  0.0     0.0    0.0    0.0      0.0   0.000000    0.0     0.0   \n",
       "..      ...  ...     ...    ...    ...      ...        ...    ...     ...   \n",
       "995     0.0  0.0     0.0    0.0    0.0      0.0   0.000000    0.0     0.0   \n",
       "996     0.0  0.0     0.0    0.0    0.0      0.0   0.000000    0.0     0.0   \n",
       "997     0.0  0.0     0.0    0.0    0.0      0.0   0.000000    0.0     0.0   \n",
       "998     0.0  0.0     0.0    0.0    0.0      0.0   0.000000    0.0     0.0   \n",
       "999     0.0  0.0     0.0    0.0    0.0      0.0   0.000000    0.0     0.0   \n",
       "\n",
       "     abatement  ...  zodiac  zodiacal  zone  zoological  zoology  zoophyte  \\\n",
       "0          0.0  ...     0.0       0.0   0.0         0.0      0.0       0.0   \n",
       "1          0.0  ...     0.0       0.0   0.0         0.0      0.0       0.0   \n",
       "2          0.0  ...     0.0       0.0   0.0         0.0      0.0       0.0   \n",
       "3          0.0  ...     0.0       0.0   0.0         0.0      0.0       0.0   \n",
       "4          0.0  ...     0.0       0.0   0.0         0.0      0.0       0.0   \n",
       "..         ...  ...     ...       ...   ...         ...      ...       ...   \n",
       "995        0.0  ...     0.0       0.0   0.0         0.0      0.0       0.0   \n",
       "996        0.0  ...     0.0       0.0   0.0         0.0      0.0       0.0   \n",
       "997        0.0  ...     0.0       0.0   0.0         0.0      0.0       0.0   \n",
       "998        0.0  ...     0.0       0.0   0.0         0.0      0.0       0.0   \n",
       "999        0.0  ...     0.0       0.0   0.0         0.0      0.0       0.0   \n",
       "\n",
       "     zorger  zulu  zuni  zurich  \n",
       "0       0.0   0.0   0.0     0.0  \n",
       "1       0.0   0.0   0.0     0.0  \n",
       "2       0.0   0.0   0.0     0.0  \n",
       "3       0.0   0.0   0.0     0.0  \n",
       "4       0.0   0.0   0.0     0.0  \n",
       "..      ...   ...   ...     ...  \n",
       "995     0.0   0.0   0.0     0.0  \n",
       "996     0.0   0.0   0.0     0.0  \n",
       "997     0.0   0.0   0.0     0.0  \n",
       "998     0.0   0.0   0.0     0.0  \n",
       "999     0.0   0.0   0.0     0.0  \n",
       "\n",
       "[1000 rows x 16857 columns]"
      ]
     },
     "execution_count": 15,
     "metadata": {},
     "output_type": "execute_result"
    }
   ],
   "source": [
    "def model_TFIDF(data): # take the partitions\n",
    "    tfIdf = TfidfVectorizer(use_idf=True)\n",
    "    tfidf_fit = tfIdf.fit_transform(data).toarray()\n",
    "    tfidf_fit_df = pd.DataFrame(tfidf_fit, columns = tfIdf.get_feature_names())\n",
    "    return tfidf_fit_df\n",
    "\n",
    "tfidf_vectorizer = model_TFIDF(dataset['partitions'])\n",
    "tfidf_vectorizer"
   ]
  },
  {
   "cell_type": "markdown",
   "id": "851457d2",
   "metadata": {},
   "source": [
    "## LDA as a feature extractor"
   ]
  },
  {
   "cell_type": "code",
   "execution_count": 16,
   "id": "4a06064a",
   "metadata": {},
   "outputs": [
    {
     "data": {
      "text/plain": [
       "array([[0.59774839, 0.29522732, 0.0014262 , 0.00142918, 0.10416892],\n",
       "       [0.66809347, 0.24872858, 0.00135221, 0.00141196, 0.08041379],\n",
       "       [0.96043136, 0.02757996, 0.00142626, 0.00911334, 0.00144907],\n",
       "       ...,\n",
       "       [0.00148782, 0.99406984, 0.00147779, 0.00147984, 0.00148472],\n",
       "       [0.00132839, 0.00132955, 0.99462291, 0.00134994, 0.00136921],\n",
       "       [0.00135565, 0.94810614, 0.00134389, 0.04784461, 0.0013497 ]])"
      ]
     },
     "execution_count": 16,
     "metadata": {},
     "output_type": "execute_result"
    }
   ],
   "source": [
    "def model_LDA2(data): # take the partitions\n",
    "    cv = CountVectorizer(max_df = 0.9, min_df = 2)\n",
    "    dtm = cv.fit_transform(data)\n",
    "    lda = LatentDirichletAllocation(n_components = 5, random_state = 5)\n",
    "    lda = lda.fit_transform(dtm)\n",
    "    return lda\n",
    "\n",
    "lda = model_LDA2(dataset['partitions'])\n",
    "lda"
   ]
  },
  {
   "cell_type": "markdown",
   "id": "b4ee0b26",
   "metadata": {},
   "source": [
    "## wordembedding model"
   ]
  },
  {
   "cell_type": "code",
   "execution_count": 17,
   "id": "8aaf1357",
   "metadata": {},
   "outputs": [],
   "source": [
    "#splitting the sentences in each partitoin\n",
    "partitions_splitted = []\n",
    "for partition in dataset['partitions']:\n",
    "    temp = partition.split()\n",
    "    partitions_splitted.append(temp)\n"
   ]
  },
  {
   "cell_type": "code",
   "execution_count": 18,
   "id": "92fb59b0",
   "metadata": {},
   "outputs": [],
   "source": [
    "#creating the word2vec model\n",
    "def model_word2vec(tokens_data): # take the partitions_splitted\n",
    "    model = Word2Vec(sentences = tokens_data, vector_size = 150, workers = 6)\n",
    "    return model"
   ]
  },
  {
   "cell_type": "code",
   "execution_count": 19,
   "id": "a17ac2fa",
   "metadata": {},
   "outputs": [
    {
     "data": {
      "text/plain": [
       "<gensim.models.word2vec.Word2Vec at 0x1914b3e65b0>"
      ]
     },
     "execution_count": 19,
     "metadata": {},
     "output_type": "execute_result"
    }
   ],
   "source": [
    "word2vec_model = model_word2vec(partitions_splitted)\n",
    "word2vec_model"
   ]
  },
  {
   "cell_type": "code",
   "execution_count": 20,
   "id": "e9e166cb",
   "metadata": {},
   "outputs": [],
   "source": [
    "#Create the word document vectors\n",
    "def doc_vectors(data_tokens, word2vec_model):\n",
    "    features = []\n",
    "    for tokens in data_tokens:\n",
    "        zero_vector = np.zeros(word2vec_model.vector_size)\n",
    "        vectors = []\n",
    "        for token in tokens:\n",
    "            if token in word2vec_model.wv:\n",
    "                vectors.append(word2vec_model.wv[token])\n",
    "        if vectors:\n",
    "            vectors = np.asarray(vectors)\n",
    "            avg_vec = vectors.mean(axis = 0)\n",
    "            features.append(avg_vec)\n",
    "        else:\n",
    "            features.append(zero_vector)\n",
    "    return features\n",
    "\n",
    "vectorized_doc = doc_vectors(partitions_splitted, word2vec_model) #vectorized documents\n"
   ]
  },
  {
   "cell_type": "code",
   "execution_count": 21,
   "id": "f981a97f",
   "metadata": {},
   "outputs": [
    {
     "data": {
      "text/plain": [
       "(1000, 150)"
      ]
     },
     "execution_count": 21,
     "metadata": {},
     "output_type": "execute_result"
    }
   ],
   "source": [
    "len(vectorized_doc), len(vectorized_doc[0])"
   ]
  },
  {
   "cell_type": "markdown",
   "id": "42a0f80f",
   "metadata": {},
   "source": [
    "## KMeans + BOW"
   ]
  },
  {
   "cell_type": "code",
   "execution_count": 22,
   "id": "ef49ac3a",
   "metadata": {},
   "outputs": [],
   "source": [
    "bow_features_reduced = KernelPCA(n_components = 2, eigen_solver = 'dense').fit_transform(bow_vectorizer)"
   ]
  },
  {
   "cell_type": "code",
   "execution_count": 23,
   "id": "dbc61baf",
   "metadata": {},
   "outputs": [],
   "source": [
    "#fitting the model with the bow\n",
    "y_data_kmeans_bow, model_kmeans_bow = model_kmeans(bow_features_reduced)\n"
   ]
  },
  {
   "cell_type": "code",
   "execution_count": 24,
   "id": "243a35a6",
   "metadata": {},
   "outputs": [
    {
     "data": {
      "image/png": "[encoded data removed]",
      "text/plain": [
       "<Figure size 720x432 with 1 Axes>"
      ]
     },
     "metadata": {
      "needs_background": "light"
     },
     "output_type": "display_data"
    }
   ],
   "source": [
    "plotting(bow_features_reduced, y_data_kmeans_bow, model_kmeans_bow, 'BOW Clustering')"
   ]
  },
  {
   "cell_type": "code",
   "execution_count": 25,
   "id": "623c4ee3",
   "metadata": {},
   "outputs": [
    {
     "name": "stdout",
     "output_type": "stream",
     "text": [
      "Homogeneity: 0.6450713967887504\n",
      "Completeness: 0.7517791396187385\n",
      "V-measure: 0.694349476956545\n",
      "Adjusted Rand-Index: 0.5282977827786574\n",
      "Silhouette Coefficient: 0.6000262163446475\n"
     ]
    }
   ],
   "source": [
    "clustering_evaluation(bow_features_reduced, model_kmeans_bow.labels_, dataset['label'])"
   ]
  },
  {
   "cell_type": "markdown",
   "id": "c791db7d",
   "metadata": {},
   "source": [
    "## KMeans + TFIDF"
   ]
  },
  {
   "cell_type": "code",
   "execution_count": 24,
   "id": "54acc820",
   "metadata": {},
   "outputs": [],
   "source": [
    "bow_features_reduced_tfidf = KernelPCA(n_components = 2, eigen_solver = 'dense').fit_transform(tfidf_vectorizer)"
   ]
  },
  {
   "cell_type": "code",
   "execution_count": 25,
   "id": "f89b8ab5",
   "metadata": {},
   "outputs": [],
   "source": [
    "#fitting KMeans model with the TFIDF\n",
    "y_data_kmeans_tfidf, model_kmeans_tfidf = model_kmeans(bow_features_reduced_tfidf)"
   ]
  },
  {
   "cell_type": "code",
   "execution_count": 26,
   "id": "58110e8d",
   "metadata": {},
   "outputs": [
    {
     "data": {
      "image/png": "[encoded data removed]",
      "text/plain": [
       "<Figure size 720x432 with 1 Axes>"
      ]
     },
     "metadata": {
      "needs_background": "light"
     },
     "output_type": "display_data"
    }
   ],
   "source": [
    "plotting(bow_features_reduced_tfidf, y_data_kmeans_tfidf, model_kmeans_tfidf, 'TF-IDF Clustering')"
   ]
  },
  {
   "cell_type": "code",
   "execution_count": 27,
   "id": "73a01672",
   "metadata": {},
   "outputs": [
    {
     "name": "stdout",
     "output_type": "stream",
     "text": [
      "Homogeneity: 0.6982024390724609\n",
      "Completeness: 0.7906005896896787\n",
      "V-measure: 0.7415343055990657\n",
      "Adjusted Rand-Index: 0.5547557650065288\n",
      "Silhouette Coefficient: 0.6434726695735692\n"
     ]
    }
   ],
   "source": [
    "clustering_evaluation(bow_features_reduced_tfidf, model_kmeans_tfidf.labels_, dataset['label'])"
   ]
  },
  {
   "cell_type": "markdown",
   "id": "d4f52a0c",
   "metadata": {},
   "source": [
    "## KMeans + LDA"
   ]
  },
  {
   "cell_type": "code",
   "execution_count": 28,
   "id": "46a1abb9",
   "metadata": {},
   "outputs": [],
   "source": [
    "bow_features_reduced_lda = KernelPCA(n_components = 2, eigen_solver = 'dense').fit_transform(lda)"
   ]
  },
  {
   "cell_type": "code",
   "execution_count": 29,
   "id": "df81116b",
   "metadata": {},
   "outputs": [],
   "source": [
    "#fitting KMeans model with the LDA\n",
    "y_data_kmeans_lda, model_kmeans_lda = model_kmeans(bow_features_reduced_lda)"
   ]
  },
  {
   "cell_type": "code",
   "execution_count": 30,
   "id": "599b67f7",
   "metadata": {},
   "outputs": [
    {
     "data": {
      "image/png": "[encoded data removed]",
      "text/plain": [
       "<Figure size 720x432 with 1 Axes>"
      ]
     },
     "metadata": {
      "needs_background": "light"
     },
     "output_type": "display_data"
    }
   ],
   "source": [
    "plotting(bow_features_reduced_lda, y_data_kmeans_lda, model_kmeans_lda, 'LDA Clustering')"
   ]
  },
  {
   "cell_type": "code",
   "execution_count": 31,
   "id": "7a2d2ffd",
   "metadata": {},
   "outputs": [
    {
     "name": "stdout",
     "output_type": "stream",
     "text": [
      "Homogeneity: 0.7284889034243728\n",
      "Completeness: 0.7561157732644248\n",
      "V-measure: 0.7420452854234619\n",
      "Adjusted Rand-Index: 0.6477720909456435\n",
      "Silhouette Coefficient: 0.7052936355435907\n"
     ]
    }
   ],
   "source": [
    "clustering_evaluation(bow_features_reduced_lda, model_kmeans_lda.labels_, dataset['label'])"
   ]
  },
  {
   "cell_type": "markdown",
   "id": "814b649e",
   "metadata": {},
   "source": [
    "## KMeans + wordEmbedding"
   ]
  },
  {
   "cell_type": "code",
   "execution_count": 32,
   "id": "dbc350a4",
   "metadata": {},
   "outputs": [],
   "source": [
    "bow_features_reduced_we = KernelPCA(n_components = 2, eigen_solver = 'dense').fit_transform(vectorized_doc)"
   ]
  },
  {
   "cell_type": "code",
   "execution_count": 33,
   "id": "51c83762",
   "metadata": {},
   "outputs": [],
   "source": [
    "#fitting KMeans model with the LDA\n",
    "y_data_kmeans_we, model_kmeans_we = model_kmeans(bow_features_reduced_we)"
   ]
  },
  {
   "cell_type": "code",
   "execution_count": 34,
   "id": "d40c6b5c",
   "metadata": {},
   "outputs": [
    {
     "data": {
      "image/png": "[encoded data removed]",
      "text/plain": [
       "<Figure size 720x432 with 1 Axes>"
      ]
     },
     "metadata": {
      "needs_background": "light"
     },
     "output_type": "display_data"
    }
   ],
   "source": [
    "plotting(bow_features_reduced_we, y_data_kmeans_we, model_kmeans_we, 'Word Embedding Clustering')"
   ]
  },
  {
   "cell_type": "code",
   "execution_count": 35,
   "id": "72fd3b2d",
   "metadata": {},
   "outputs": [
    {
     "name": "stdout",
     "output_type": "stream",
     "text": [
      "Homogeneity: 0.2928251970589032\n",
      "Completeness: 0.31295638084394317\n",
      "V-measure: 0.30255629168758263\n",
      "Adjusted Rand-Index: 0.17047190262340003\n",
      "Silhouette Coefficient: 0.3517727553844452\n"
     ]
    }
   ],
   "source": [
    "clustering_evaluation(bow_features_reduced_we, model_kmeans_we.labels_, dataset['label'])"
   ]
  },
  {
   "cell_type": "markdown",
   "id": "7a95f06b",
   "metadata": {},
   "source": [
    "# distance between Clusters"
   ]
  },
  {
   "cell_type": "code",
   "execution_count": 38,
   "id": "87d9e778",
   "metadata": {},
   "outputs": [],
   "source": [
    "def distance_btw_clusters(model):\n",
    "    dists = euclidean_distances(model.cluster_centers_)\n",
    "    tri_dists = dists[np.triu_indices(5, 1)]\n",
    "    max_dist, avg_dist, min_dist = tri_dists.max(), tri_dists.mean(), tri_dists.min()\n",
    "    return max_dist, avg_dist, min_dist"
   ]
  },
  {
   "cell_type": "code",
   "execution_count": 43,
   "id": "1d3d704f",
   "metadata": {},
   "outputs": [],
   "source": [
    "max_dist, avg_dist, min_dist = distance_btw_clusters(model_kmeans_bow)"
   ]
  },
  {
   "cell_type": "code",
   "execution_count": 44,
   "id": "e5e7abe2",
   "metadata": {},
   "outputs": [
    {
     "data": {
      "text/plain": [
       "9.467226668777522"
      ]
     },
     "execution_count": 44,
     "metadata": {},
     "output_type": "execute_result"
    }
   ],
   "source": [
    "max_dist"
   ]
  },
  {
   "cell_type": "code",
   "execution_count": 45,
   "id": "92db9ec2",
   "metadata": {},
   "outputs": [
    {
     "data": {
      "text/plain": [
       "6.3668167077930855"
      ]
     },
     "execution_count": 45,
     "metadata": {},
     "output_type": "execute_result"
    }
   ],
   "source": [
    "avg_dist"
   ]
  },
  {
   "cell_type": "code",
   "execution_count": 46,
   "id": "0ecf8bc7",
   "metadata": {},
   "outputs": [
    {
     "data": {
      "text/plain": [
       "2.6471803220759584"
      ]
     },
     "execution_count": 46,
     "metadata": {},
     "output_type": "execute_result"
    }
   ],
   "source": [
    "min_dist"
   ]
  },
  {
   "cell_type": "code",
   "execution_count": 26,
   "id": "cd73a2ae",
   "metadata": {},
   "outputs": [],
   "source": [
    "def distance_within_cluster(data, model):\n",
    "    x_dist = model.transform(data)**2\n",
    "    return x_dist\n",
    "    "
   ]
  },
  {
   "cell_type": "code",
   "execution_count": 28,
   "id": "5f8a7ae7",
   "metadata": {},
   "outputs": [
    {
     "data": {
      "text/plain": [
       "array([[1.36348458e-01, 2.51988523e+01, 2.23732298e+01, 3.92012143e+01,\n",
       "        7.94569137e+00],\n",
       "       [3.67664947e-02, 2.69889112e+01, 2.12045455e+01, 3.85156428e+01,\n",
       "        7.50356816e+00],\n",
       "       [9.68413528e-02, 2.79489440e+01, 2.35324516e+01, 3.49058306e+01,\n",
       "        6.04989206e+00],\n",
       "       ...,\n",
       "       [1.68986025e+01, 1.72128014e+00, 5.39065691e+01, 7.82047317e+01,\n",
       "        3.58909658e+01],\n",
       "       [6.01425137e+01, 1.16843865e+02, 1.04315721e+01, 1.55389673e+02,\n",
       "        8.85029484e+01],\n",
       "       [3.76832523e+01, 5.66870843e-01, 7.97472972e+01, 1.14775199e+02,\n",
       "        6.42304060e+01]])"
      ]
     },
     "execution_count": 28,
     "metadata": {},
     "output_type": "execute_result"
    }
   ],
   "source": [
    "dist_within_cluster = distance_within_cluster(bow_features_reduced, model_kmeans_bow)\n",
    "dist_within_cluster"
   ]
  },
  {
   "cell_type": "code",
   "execution_count": null,
   "id": "ffbaa0b1",
   "metadata": {},
   "outputs": [],
   "source": []
  }
 ],
 "metadata": {
  "kernelspec": {
   "display_name": "Python 3 (ipykernel)",
   "language": "python",
   "name": "python3"
  },
  "language_info": {
   "codemirror_mode": {
    "name": "ipython",
    "version": 3
   },
   "file_extension": ".py",
   "mimetype": "text/x-python",
   "name": "python",
   "nbconvert_exporter": "python",
   "pygments_lexer": "ipython3",
   "version": "3.9.7"
  }
 },
 "nbformat": 4,
 "nbformat_minor": 5
}
